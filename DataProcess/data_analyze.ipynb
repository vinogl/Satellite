{
 "cells": [
  {
   "cell_type": "code",
   "execution_count": 1,
   "metadata": {},
   "outputs": [
    {
     "data": {
      "text/plain": [
       "<Figure size 1200x800 with 0 Axes>"
      ]
     },
     "metadata": {},
     "output_type": "display_data"
    }
   ],
   "source": [
    "import numpy as np\n",
    "from matplotlib import pyplot as plt\n",
    "from scipy import signal\n",
    "\n",
    "\n",
    "data = np.load(r'../numpy/1006.npy')\n",
    "time_series = np.load(r'../numpy/1006_time.npy', allow_pickle=True)\n",
    "\n",
    "sample_1006 = np.load(r'../numpy/sample_1006.npy', allow_pickle=True)\n",
    "sample_time = np.load(r'../numpy/sample_time.npy', allow_pickle=True)\n",
    "\n",
    "plt.rcParams['savefig.dpi'] = 200  # 图片像素\n",
    "plt.rcParams['figure.dpi'] = 200  # 分辨率\n",
    "plt.rcParams['font.sans-serif']=['SimHei']  # 正常显示中文标签\n",
    "plt.rcParams['axes.unicode_minus']=False  # 正常显示负号\n",
    "plt.subplots_adjust(left=None, bottom=None, right=None, top=None, wspace=None, hspace=2)"
   ]
  },
  {
   "cell_type": "markdown",
   "metadata": {},
   "source": [
    "# 找出数组周期\n",
    "---"
   ]
  },
  {
   "cell_type": "code",
   "execution_count": 2,
   "metadata": {},
   "outputs": [],
   "source": [
    "def find_cycle(sample_np: np.ndarray, estimated):\n",
    "\n",
    "    bias_list = np.array([])\n",
    "    cycle_list = np.arange(estimated-100, estimated+100)\n",
    "\n",
    "    for cycle in cycle_list:\n",
    "        bias = sample_np[:-cycle] - sample_np[cycle:]\n",
    "        bias_abs = np.linalg.norm(bias) / (len(sample_np) - cycle)\n",
    "\n",
    "        bias_list = np.append(bias_list, bias_abs)\n",
    "\n",
    "    return cycle_list, bias_list"
   ]
  },
  {
   "cell_type": "code",
   "execution_count": 3,
   "metadata": {},
   "outputs": [
    {
     "data": {
      "text/plain": [
       "<Figure size 1200x800 with 0 Axes>"
      ]
     },
     "metadata": {},
     "output_type": "display_data"
    }
   ],
   "source": [
    "cycle_np, bias_np = find_cycle(sample_1006[0], 500)\n",
    "cycle_np *= 10  #  采样间隔为10s，所以每个点*10就是对应的时间\n",
    "bias_min = np.min(bias_np)  # 最小偏差值\n",
    "index_min = np.where(bias_np==bias_min)\n",
    "cycle = cycle_np[index_min]  # 最小偏差值对应的时间就是周期\n",
    "\n",
    "plt.plot(cycle_np, bias_np)\n",
    "plt.scatter(cycle, bias_min)\n",
    "plt.plot([cycle, cycle], [-0.05, 0.15], '--')\n",
    "plt.text(5500, -0.05, '(%d, %f)' % (cycle, bias_min))\n",
    "plt.savefig('../pic/basic/find_cycle.png', transparent=True)\n",
    "plt.clf()\n"
   ]
  },
  {
   "cell_type": "markdown",
   "metadata": {},
   "source": [
    "# current && voltage 0-100000\n",
    "---"
   ]
  },
  {
   "cell_type": "code",
   "execution_count": 4,
   "metadata": {},
   "outputs": [
    {
     "data": {
      "text/plain": [
       "<Figure size 1200x800 with 0 Axes>"
      ]
     },
     "metadata": {},
     "output_type": "display_data"
    }
   ],
   "source": [
    "plt.subplot(2, 1, 1)\n",
    "plt.ylabel('太阳阵输入电流(A)')\n",
    "plt.xlabel('时间(s)')\n",
    "plt.plot(time_series[:100000], data[0, :100000])\n",
    "\n",
    "plt.subplot(2, 1, 2)\n",
    "plt.ylabel('分流域电压(V)')\n",
    "plt.xlabel('时间(s)')\n",
    "plt.plot(time_series[:100000], data[1, :100000])\n",
    "\n",
    "plt.savefig('../pic/basic/AV-s_100000.png', transparent=True)\n",
    "plt.clf()\n"
   ]
  },
  {
   "cell_type": "markdown",
   "metadata": {},
   "source": [
    "# 太阳阵输入电流(current 0-10000)\n",
    "---"
   ]
  },
  {
   "cell_type": "code",
   "execution_count": 5,
   "metadata": {},
   "outputs": [
    {
     "data": {
      "text/plain": [
       "<Figure size 1200x800 with 0 Axes>"
      ]
     },
     "metadata": {},
     "output_type": "display_data"
    }
   ],
   "source": [
    "plt.ylabel('太阳阵输入电流(A)')\n",
    "plt.xlabel('时间(s)')\n",
    "plt.plot(time_series[:10000], data[0, :10000])\n",
    "plt.savefig('../pic/basic/A-s_10000.png', transparent=True)\n",
    "plt.clf()\n",
    "\n",
    "plt.ylabel('太阳阵输入电流(A)')\n",
    "plt.xlabel('时间(s)')\n",
    "plt.plot(sample_time[:5000], sample_1006[0, :5000])\n",
    "plt.savefig('../pic/basic/A-s_sample.png', transparent=True)\n",
    "plt.clf()\n"
   ]
  },
  {
   "cell_type": "markdown",
   "metadata": {},
   "source": [
    "### 将current样本储存到sample"
   ]
  },
  {
   "cell_type": "code",
   "execution_count": 6,
   "metadata": {},
   "outputs": [],
   "source": [
    "sample = sample_1006[0].reshape(1, -1)  "
   ]
  },
  {
   "cell_type": "markdown",
   "metadata": {},
   "source": [
    "# 分流域电压(voltage 0-10000)\n",
    "---"
   ]
  },
  {
   "cell_type": "code",
   "execution_count": 7,
   "metadata": {},
   "outputs": [
    {
     "data": {
      "text/plain": [
       "<Figure size 1200x800 with 0 Axes>"
      ]
     },
     "metadata": {},
     "output_type": "display_data"
    }
   ],
   "source": [
    "plt.ylabel('分流域电压(V)')\n",
    "plt.xlabel('时间(s)')\n",
    "plt.plot(time_series[:10000], data[1, :10000])\n",
    "plt.savefig('../pic/basic/V-s_10000.png', transparent=True)\n",
    "plt.clf()\n",
    "\n",
    "plt.ylabel('分流域电压(V)')\n",
    "plt.xlabel('时间(s)')\n",
    "plt.plot(sample_time[:5000], sample_1006[1, :5000])\n",
    "plt.savefig('../pic/basic/V-s_sample.png', transparent=True)\n",
    "plt.clf()\n"
   ]
  },
  {
   "cell_type": "markdown",
   "metadata": {},
   "source": [
    "### voltage数据平滑处理"
   ]
  },
  {
   "cell_type": "code",
   "execution_count": 8,
   "metadata": {},
   "outputs": [],
   "source": [
    "voltage_sample_smooth = signal.savgol_filter(sample_1006[1], 53, 1)  # 平滑处理"
   ]
  },
  {
   "cell_type": "code",
   "execution_count": 9,
   "metadata": {},
   "outputs": [
    {
     "data": {
      "text/plain": [
       "<Figure size 1200x800 with 0 Axes>"
      ]
     },
     "metadata": {},
     "output_type": "display_data"
    }
   ],
   "source": [
    "plt.ylabel('分流域电压(V)')\n",
    "plt.xlabel('时间(s)')\n",
    "plt.plot(sample_time[:5000], voltage_sample_smooth[:5000])\n",
    "plt.savefig('../pic/basic/V-s_sample_smooth.png', transparent=True)\n",
    "plt.clf()\n"
   ]
  },
  {
   "cell_type": "markdown",
   "metadata": {},
   "source": [
    "### 将voltage样本储存到sample"
   ]
  },
  {
   "cell_type": "code",
   "execution_count": 10,
   "metadata": {},
   "outputs": [],
   "source": [
    "sample_process = np.append(sample, voltage_sample_smooth.reshape(1, -1), axis=0)"
   ]
  },
  {
   "cell_type": "markdown",
   "metadata": {},
   "source": [
    "# 储存sample\n",
    "---"
   ]
  },
  {
   "cell_type": "code",
   "execution_count": 11,
   "metadata": {},
   "outputs": [],
   "source": [
    "np.save('../numpy/sample_process.npy', sample_process)"
   ]
  }
 ],
 "metadata": {
  "kernelspec": {
   "display_name": "Python 3 (ipykernel)",
   "language": "python",
   "name": "python3"
  },
  "language_info": {
   "codemirror_mode": {
    "name": "ipython",
    "version": 3
   },
   "file_extension": ".py",
   "mimetype": "text/x-python",
   "name": "python",
   "nbconvert_exporter": "python",
   "pygments_lexer": "ipython3",
   "version": "3.8.12"
  }
 },
 "nbformat": 4,
 "nbformat_minor": 1
}
