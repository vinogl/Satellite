{
 "cells": [
  {
   "cell_type": "code",
   "execution_count": 1,
   "id": "5ddc8b00",
   "metadata": {
    "scrolled": true
   },
   "outputs": [
    {
     "data": {
      "text/plain": [
       "<Figure size 1200x800 with 0 Axes>"
      ]
     },
     "metadata": {},
     "output_type": "display_data"
    }
   ],
   "source": [
    "import numpy as np\n",
    "from matplotlib import pyplot as plt\n",
    "import random\n",
    "import warnings\n",
    "\n",
    "\n",
    "warnings.filterwarnings('ignore')  # 抑制警告显示\n",
    "\n",
    "sample = np.load('../numpy/sample_process.npy')\n",
    "sample_time = np.load('../numpy/sample_time.npy')\n",
    "\n",
    "cycle = 567\n",
    "\n",
    "plt.rcParams['savefig.dpi'] = 200  # 图片像素\n",
    "plt.rcParams['figure.dpi'] = 200  # 分辨率\n",
    "plt.rcParams['font.sans-serif']=['SimHei']  # 正常显示中文标签\n",
    "plt.rcParams['axes.unicode_minus']=False  # 正常显示负号\n",
    "\n",
    "plt.subplots_adjust(left=None, bottom=None, right=None, top=None, wspace=None, hspace=None)"
   ]
  },
  {
   "cell_type": "markdown",
   "id": "ef718fb0",
   "metadata": {},
   "source": [
    "## 三个方法\n",
    "---\n",
    "\n",
    "\n",
    "* `append_np`: 将多个一维`numpy.array`合并为一个\n",
    "\n",
    "\n",
    "* `add_mutation_fault`: 添加突变故障(维度，左区间端点，右区间端点，偏差)\n",
    "\n",
    "\n",
    "* `add_gradient_fault`: 添加渐变故障(维度，左区间端点，右区间端点，偏差，该维度数据的下限，渐变次数)"
   ]
  },
  {
   "cell_type": "code",
   "execution_count": 2,
   "id": "68580795",
   "metadata": {},
   "outputs": [],
   "source": [
    "def append_np(*args):\n",
    "    np_new = args[0]\n",
    "    for item in args[1:]:\n",
    "        np_new = np.append(np_new, item)\n",
    "    return np_new\n",
    "\n",
    "\n",
    "def add_mutation_fault(sample_np, a, b, bias):\n",
    "    sample_fault = np.array([])\n",
    "    for item in sample_np[a:b]:\n",
    "        temp = item -bias\n",
    "        if temp <= 0:\n",
    "            sample_fault = np.append(sample_fault, 0)\n",
    "        else:\n",
    "            sample_fault = np.append(sample_fault, temp)\n",
    "    \n",
    "    return append_np(sample_np[:a], sample_fault, sample_np[b:])\n",
    "\n",
    "\n",
    "def add_gradient_fault(sample_np, a, b, e, data_min):\n",
    "    x = np.array(range(0, b - a))\n",
    "    y = np.power(e, -x)\n",
    "    sample_fault = sample_np[a:b] * y + data_min * (1 - y)\n",
    "\n",
    "    return append_np(sample_np[:a], sample_fault, sample_np[b:])\n"
   ]
  },
  {
   "cell_type": "markdown",
   "id": "31a8f97d",
   "metadata": {},
   "source": [
    "## 正常数据(normal)\n",
    "---"
   ]
  },
  {
   "cell_type": "code",
   "execution_count": 3,
   "id": "257556fe",
   "metadata": {},
   "outputs": [
    {
     "data": {
      "text/plain": [
       "<Figure size 1200x800 with 0 Axes>"
      ]
     },
     "metadata": {},
     "output_type": "display_data"
    }
   ],
   "source": [
    "normal_ort = np.array([])  # 储存按时间排序的current数据\n",
    "sample_normal = np.array([])  # 储存按电压排序的current数据\n",
    "\n",
    "for i in range(int(sample.shape[1] / cycle)):\n",
    "    \n",
    "    start = i * cycle  # 本周期段起点\n",
    "    end = (i + 1) * cycle  # 本周期段终点\n",
    "    \n",
    "    # 按照时间排序current数据\n",
    "    normal_ort = np.append(normal_ort, sample[0, start:end])\n",
    "    \n",
    "    # 将current数据按照voltage大小排序，并添加到sample_normal\n",
    "    index = np.argsort(sample[1, start:end])\n",
    "    temp = np.array([sample[0, start:end][item] for item in index])\n",
    "    sample_normal = np.append(sample_normal, temp)\n",
    "    \n",
    "    # 绘图s-A-V并保存\n",
    "    ax = plt.gca(projection='3d')\n",
    "    ax.set(xlabel='time(s)', ylabel='current(A)', zlabel='voltage(V)')\n",
    "    ax.scatter(sample_time[start:end], sample[0, start:end], sample[1, start:end], marker='+', s=1)\n",
    "    plt.savefig('../pic/s-A-V/normal/%d-%d.png' % (i, i+1), transparent=True)\n",
    "    plt.clf()  # 清空画板\n",
    "    \n",
    "np.save('../numpy/V-A/normal.npy', sample_normal)\n"
   ]
  },
  {
   "cell_type": "markdown",
   "id": "4876a0aa",
   "metadata": {},
   "source": [
    "## 电路故障(fault_1)\n",
    "---"
   ]
  },
  {
   "cell_type": "code",
   "execution_count": 4,
   "id": "8afb114b",
   "metadata": {},
   "outputs": [
    {
     "data": {
      "text/plain": [
       "<Figure size 1200x800 with 0 Axes>"
      ]
     },
     "metadata": {},
     "output_type": "display_data"
    }
   ],
   "source": [
    "fault_1_ort = np.array([])  # 储存按时间排序的current数据\n",
    "sample_fault = np.array([])  # 储存按电压排序的current数据\n",
    "\n",
    "for i in range(int(sample.shape[1] / cycle)):\n",
    "    \n",
    "    start = i * cycle  # 本周期段起点\n",
    "    end = (i + 1) * cycle  # 本周期段终点\n",
    "    \n",
    "    # 生成故障数据(f_s)\n",
    "    f_start = random.randint(0, int(cycle/3))\n",
    "    f_end = random.randint(int(cycle/2), cycle)\n",
    "    f_s = add_mutation_fault(sample[0, start:end], f_start, f_end, random.uniform(3, 5))\n",
    "    \n",
    "    # 按照时间排序current故障数据\n",
    "    fault_1_ort = np.append(fault_1_ort, f_s)\n",
    "    \n",
    "    # 将current数据按照voltage大小排序，并添加到sample_fault\n",
    "    index = np.argsort(sample[1, start:end])\n",
    "    temp = np.array([f_s[item] for item in index])\n",
    "    sample_fault = np.append(sample_fault, temp)\n",
    "    \n",
    "    # 绘图s-A-V并保存\n",
    "    ax = plt.gca(projection='3d')\n",
    "    ax.set(xlabel='time(s)', ylabel='current(A)', zlabel='voltage(V)')\n",
    "    ax.scatter(sample_time[start:end], f_s, sample[1, start:end], marker='+', s=1)\n",
    "    plt.savefig('../pic/s-A-V/fault_1/%d-%d.png' % (i, i+1), transparent=True)\n",
    "    plt.clf()  # 清空画板\n",
    "    \n",
    "np.save('../numpy/V-A/fault_1.npy', sample_fault)\n"
   ]
  },
  {
   "cell_type": "markdown",
   "id": "46154ab4",
   "metadata": {},
   "source": [
    "## 展开机构故障(fault_2)\n",
    "---"
   ]
  },
  {
   "cell_type": "code",
   "execution_count": 5,
   "id": "4ce577ea",
   "metadata": {},
   "outputs": [
    {
     "data": {
      "text/plain": [
       "<Figure size 1200x800 with 0 Axes>"
      ]
     },
     "metadata": {},
     "output_type": "display_data"
    }
   ],
   "source": [
    "fault_2_ort = np.array([])  # 储存按时间排序的current数据\n",
    "sample_fault = np.array([])  # 储存按电压排序的current数据\n",
    "\n",
    "for i in range(int(sample.shape[1] / cycle)):\n",
    "    \n",
    "    start = i * cycle  # 本周期段起点\n",
    "    end = (i + 1) * cycle  # 本周期段终点\n",
    "    \n",
    "    # 生成故障数据(f_s)\n",
    "    f_start = random.randint(0, int(cycle/3))\n",
    "    f_end = random.randint(int(cycle/2), cycle)\n",
    "    f_s = add_mutation_fault(sample[0, start:end], f_start, f_end, random.uniform(8, 10))\n",
    "    \n",
    "    # 按照时间排序current故障数据\n",
    "    fault_2_ort = np.append(fault_2_ort, f_s)\n",
    "    \n",
    "    # 将current数据按照voltage大小排序，并添加到sample_fault\n",
    "    index = np.argsort(sample[1, start:end])\n",
    "    temp = np.array([f_s[item] for item in index])\n",
    "    sample_fault = np.append(sample_fault, temp)\n",
    "    \n",
    "    # 绘图s-A-V并保存\n",
    "    ax = plt.gca(projection='3d')\n",
    "    ax.set(xlabel='time(s)', ylabel='current(A)', zlabel='voltage(V)')\n",
    "    ax.scatter(sample_time[start:end], f_s, sample[1, start:end], marker='+', s=1)\n",
    "    plt.savefig('../pic/s-A-V/fault_2/%d-%d.png' % (i, i+1), transparent=True)\n",
    "    plt.clf()  # 清空画板\n",
    "    \n",
    "np.save('../numpy/V-A/fault_2.npy', sample_fault)\n"
   ]
  },
  {
   "cell_type": "markdown",
   "id": "f6283c37",
   "metadata": {},
   "source": [
    "## 对日定向驱动故障(fault_3)\n",
    "---"
   ]
  },
  {
   "cell_type": "code",
   "execution_count": 6,
   "id": "cfa80795",
   "metadata": {},
   "outputs": [
    {
     "data": {
      "text/plain": [
       "<Figure size 1200x800 with 0 Axes>"
      ]
     },
     "metadata": {},
     "output_type": "display_data"
    }
   ],
   "source": [
    "fault_3_ort = np.array([])  # 储存按时间排序的current数据\n",
    "sample_fault = np.array([])  # 储存按电压排序的current数据\n",
    "\n",
    "for i in range(int(sample.shape[1] / cycle)):\n",
    "    \n",
    "    start = i * cycle  # 本周期段起点\n",
    "    end = (i + 1) * cycle  # 本周期段终点\n",
    "    \n",
    "    # 生成故障数据(f_s)\n",
    "    f_start = random.randint(int(cycle/8), int(cycle/2.5))\n",
    "    f_end = cycle\n",
    "    f_s = add_gradient_fault(sample[0, start:end], f_start, f_end, random.uniform(1.001, 1.005), 0)\n",
    "    \n",
    "    # 按照时间排序current故障数据\n",
    "    fault_3_ort = np.append(fault_3_ort, f_s)\n",
    "    \n",
    "    # 将current数据按照voltage大小排序，并添加到sample_fault\n",
    "    index = np.argsort(sample[1, start:end])\n",
    "    temp = np.array([f_s[item] for item in index])\n",
    "    sample_fault = np.append(sample_fault, temp)\n",
    "    \n",
    "    # 绘图s-A-V并保存\n",
    "    ax = plt.gca(projection='3d')\n",
    "    ax.set(xlabel='time(s)', ylabel='current(A)', zlabel='voltage(V)')\n",
    "    ax.scatter(sample_time[start:end], f_s, sample[1, start:end], marker='+', s=1)\n",
    "    plt.savefig('../pic/s-A-V/fault_3/%d-%d.png' % (i, i+1), transparent=True)\n",
    "    plt.clf()  # 清空画板\n",
    "    \n",
    "np.save('../numpy/V-A/fault_3.npy', sample_fault)\n"
   ]
  },
  {
   "cell_type": "markdown",
   "id": "b2643de2",
   "metadata": {},
   "source": [
    "## 将按时间顺序排序的故障样本保存\n",
    "---"
   ]
  },
  {
   "cell_type": "code",
   "execution_count": 7,
   "id": "48171653",
   "metadata": {},
   "outputs": [],
   "source": [
    "sample_fault = np.array([normal_ort, fault_1_ort, fault_2_ort, fault_3_ort])\n",
    "np.save('../numpy/sample_fault.npy', sample_fault)"
   ]
  },
  {
   "cell_type": "code",
   "execution_count": null,
   "id": "2a70d512",
   "metadata": {
    "pycharm": {
     "name": "#%%\n"
    }
   },
   "outputs": [],
   "source": []
  }
 ],
 "metadata": {
  "kernelspec": {
   "display_name": "Python 3 (ipykernel)",
   "language": "python",
   "name": "python3"
  },
  "language_info": {
   "codemirror_mode": {
    "name": "ipython",
    "version": 3
   },
   "file_extension": ".py",
   "mimetype": "text/x-python",
   "name": "python",
   "nbconvert_exporter": "python",
   "pygments_lexer": "ipython3",
   "version": "3.8.12"
  }
 },
 "nbformat": 4,
 "nbformat_minor": 5
}